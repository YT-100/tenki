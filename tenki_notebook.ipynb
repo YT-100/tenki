{
 "cells": [
  {
   "cell_type": "code",
   "execution_count": 7,
   "metadata": {},
   "outputs": [
    {
     "name": "stdout",
     "output_type": "stream",
     "text": [
      "天気アプリ\n",
      "東京の天気を表示しています。\n",
      "東京のcitycodeは130010です。\n",
      "現在の降水確率：--%\n",
      "    T00_06 T06_12 T12_18 T18_24\n",
      "今日     --%    --%    20%     0%\n",
      "明日      0%     0%     0%     0%\n",
      "明後日    10%    10%    10%    10%\n"
     ]
    }
   ],
   "source": [
    "import streamlit as st\n",
    "import requests\n",
    "from datetime import datetime\n",
    "import pandas as pd\n",
    "\n",
    "print(\"天気アプリ\")\n",
    "print(\"東京の天気を表示しています。\") \n",
    "print(\"東京のcitycodeは130010です。\") \n",
    "\n",
    "url = \"https://weather.tsukumijima.net/api/forecast/city/\" + \"130010\" # APIにリクエストするURLを作成　東京のcityコード\n",
    "\n",
    "response = requests.get(url)\n",
    "\n",
    "weather_json = response.json()\n",
    "now_hour = datetime.now().hour\n",
    "\n",
    "if 0 <= now_hour and now_hour < 6:\n",
    "    weather_now = weather_json['forecasts'][0]['chanceOfRain']['T00_06']\n",
    "elif 6 <= now_hour and now_hour <12:\n",
    "    weather_now = weather_json['forecasts'][0]['chanceOfRain']['T06_12']\n",
    "elif 12 <= now_hour and now_hour <18:\n",
    "    weather_now = weather_json['forecasts'][0]['chanceOfRain']['T12_18']\n",
    "else:\n",
    "    weather_now = weather_json['forecasts'][0]['chanceOfRain']['T18_24']\n",
    "\n",
    "weather_now_text = \"現在の降水確率：\" + weather_now\n",
    "print(weather_now_text)\n",
    "\n",
    "df1 = pd.DataFrame(weather_json['forecasts'][0]['chanceOfRain'], index=[\"今日\"])\n",
    "df2 = pd.DataFrame(weather_json['forecasts'][1]['chanceOfRain'], index=[\"明日\"])\n",
    "df3 = pd.DataFrame(weather_json['forecasts'][2]['chanceOfRain'], index=[\"明後日\"])\n",
    "\n",
    "df = pd.concat([df1, df2, df3])\n",
    "print(df)\n"
   ]
  },
  {
   "cell_type": "code",
   "execution_count": null,
   "metadata": {},
   "outputs": [],
   "source": []
  }
 ],
 "metadata": {
  "kernelspec": {
   "display_name": "Python 3",
   "language": "python",
   "name": "python3"
  },
  "language_info": {
   "codemirror_mode": {
    "name": "ipython",
    "version": 3
   },
   "file_extension": ".py",
   "mimetype": "text/x-python",
   "name": "python",
   "nbconvert_exporter": "python",
   "pygments_lexer": "ipython3",
   "version": "3.11.9"
  }
 },
 "nbformat": 4,
 "nbformat_minor": 2
}
